{
 "cells": [
  {
   "cell_type": "code",
   "execution_count": 253,
   "metadata": {},
   "outputs": [],
   "source": [
    "import sklearn\n",
    "import pandas as pd  \n",
    "import numpy as np  \n",
    "import matplotlib.pyplot as plt \n",
    "plt.style.use('ggplot')\n",
    "import seaborn as seabornInstance \n",
    "import seaborn as sns\n",
    "from scipy import stats \n",
    "%matplotlib inline\n",
    "import xgboost as xg"
   ]
  },
  {
   "cell_type": "code",
   "execution_count": 254,
   "metadata": {},
   "outputs": [],
   "source": [
    "# Imporatation de données\n",
    "\n",
    "df=pd.read_csv('consommation_électrique.csv')"
   ]
  },
  {
   "cell_type": "code",
   "execution_count": 255,
   "metadata": {},
   "outputs": [
    {
     "data": {
      "text/html": [
       "<div>\n",
       "<style scoped>\n",
       "    .dataframe tbody tr th:only-of-type {\n",
       "        vertical-align: middle;\n",
       "    }\n",
       "\n",
       "    .dataframe tbody tr th {\n",
       "        vertical-align: top;\n",
       "    }\n",
       "\n",
       "    .dataframe thead th {\n",
       "        text-align: right;\n",
       "    }\n",
       "</style>\n",
       "<table border=\"1\" class=\"dataframe\">\n",
       "  <thead>\n",
       "    <tr style=\"text-align: right;\">\n",
       "      <th></th>\n",
       "      <th>OSEBuildingID</th>\n",
       "      <th>DataYear</th>\n",
       "      <th>BuildingType</th>\n",
       "      <th>PrimaryPropertyType</th>\n",
       "      <th>PropertyName</th>\n",
       "      <th>Neighborhood</th>\n",
       "      <th>YearBuilt</th>\n",
       "      <th>NumberofBuildings</th>\n",
       "      <th>NumberofFloors</th>\n",
       "      <th>PropertyGFATotal</th>\n",
       "      <th>...</th>\n",
       "      <th>Electricity(kBtu)</th>\n",
       "      <th>NaturalGas(kBtu)</th>\n",
       "      <th>TotalGHGEmissions</th>\n",
       "      <th>GHGEmissionsIntensity</th>\n",
       "      <th>Latitude</th>\n",
       "      <th>Longitude</th>\n",
       "      <th>Address</th>\n",
       "      <th>State</th>\n",
       "      <th>ZipCode</th>\n",
       "      <th>BuildingAge</th>\n",
       "    </tr>\n",
       "  </thead>\n",
       "  <tbody>\n",
       "    <tr>\n",
       "      <th>0</th>\n",
       "      <td>28</td>\n",
       "      <td>2015</td>\n",
       "      <td>SPS-District K-12</td>\n",
       "      <td>K-12 School</td>\n",
       "      <td>GRAHAM HILL ELEMENTARY SCHOOL (SPS-DISTRICT)</td>\n",
       "      <td>SOUTHEAST</td>\n",
       "      <td>1961</td>\n",
       "      <td>1.0</td>\n",
       "      <td>2.0</td>\n",
       "      <td>56228</td>\n",
       "      <td>...</td>\n",
       "      <td>911659.0</td>\n",
       "      <td>542600.0</td>\n",
       "      <td>35.17</td>\n",
       "      <td>0.56</td>\n",
       "      <td>47.545701</td>\n",
       "      <td>-122.268584</td>\n",
       "      <td>5101 S GRAHAM ST</td>\n",
       "      <td>WA</td>\n",
       "      <td>98118.0</td>\n",
       "      <td>54</td>\n",
       "    </tr>\n",
       "    <tr>\n",
       "      <th>1</th>\n",
       "      <td>29</td>\n",
       "      <td>2015</td>\n",
       "      <td>NonResidential</td>\n",
       "      <td>Hotel</td>\n",
       "      <td>WATERTOWN HOTEL</td>\n",
       "      <td>NORTHEAST</td>\n",
       "      <td>2001</td>\n",
       "      <td>1.0</td>\n",
       "      <td>6.0</td>\n",
       "      <td>88592</td>\n",
       "      <td>...</td>\n",
       "      <td>2254751.0</td>\n",
       "      <td>1626149.0</td>\n",
       "      <td>102.08</td>\n",
       "      <td>1.04</td>\n",
       "      <td>47.659533</td>\n",
       "      <td>-122.317393</td>\n",
       "      <td>4242 ROOSEVELT WAY NE</td>\n",
       "      <td>WA</td>\n",
       "      <td>98105.0</td>\n",
       "      <td>14</td>\n",
       "    </tr>\n",
       "    <tr>\n",
       "      <th>2</th>\n",
       "      <td>31</td>\n",
       "      <td>2015</td>\n",
       "      <td>NonResidential</td>\n",
       "      <td>Other</td>\n",
       "      <td>SEATTLE HONDA</td>\n",
       "      <td>DOWNTOWN</td>\n",
       "      <td>1930</td>\n",
       "      <td>1.0</td>\n",
       "      <td>2.0</td>\n",
       "      <td>67224</td>\n",
       "      <td>...</td>\n",
       "      <td>1388775.0</td>\n",
       "      <td>0.0</td>\n",
       "      <td>9.68</td>\n",
       "      <td>0.06</td>\n",
       "      <td>47.614906</td>\n",
       "      <td>-122.330401</td>\n",
       "      <td>1017 OLIVE WAY</td>\n",
       "      <td>WA</td>\n",
       "      <td>98101.0</td>\n",
       "      <td>85</td>\n",
       "    </tr>\n",
       "    <tr>\n",
       "      <th>3</th>\n",
       "      <td>35</td>\n",
       "      <td>2015</td>\n",
       "      <td>NonResidential</td>\n",
       "      <td>Hotel</td>\n",
       "      <td>Hotel Five</td>\n",
       "      <td>DOWNTOWN</td>\n",
       "      <td>1978</td>\n",
       "      <td>1.0</td>\n",
       "      <td>5.0</td>\n",
       "      <td>68410</td>\n",
       "      <td>...</td>\n",
       "      <td>2276244.0</td>\n",
       "      <td>2065556.0</td>\n",
       "      <td>125.57</td>\n",
       "      <td>1.69</td>\n",
       "      <td>47.615870</td>\n",
       "      <td>-122.341980</td>\n",
       "      <td>2200 5TH AVE</td>\n",
       "      <td>WA</td>\n",
       "      <td>98121.0</td>\n",
       "      <td>37</td>\n",
       "    </tr>\n",
       "    <tr>\n",
       "      <th>4</th>\n",
       "      <td>37</td>\n",
       "      <td>2015</td>\n",
       "      <td>SPS-District K-12</td>\n",
       "      <td>K-12 School</td>\n",
       "      <td>JOHN HAY ELEMENTARY SCHOOL (SPS-DISTRICT)</td>\n",
       "      <td>MAGNOLIA / QUEEN ANNE</td>\n",
       "      <td>1989</td>\n",
       "      <td>1.0</td>\n",
       "      <td>2.0</td>\n",
       "      <td>51582</td>\n",
       "      <td>...</td>\n",
       "      <td>1472609.0</td>\n",
       "      <td>0.0</td>\n",
       "      <td>10.27</td>\n",
       "      <td>0.08</td>\n",
       "      <td>47.633032</td>\n",
       "      <td>-122.352457</td>\n",
       "      <td>201 GARFIELD ST</td>\n",
       "      <td>WA</td>\n",
       "      <td>98109.0</td>\n",
       "      <td>26</td>\n",
       "    </tr>\n",
       "  </tbody>\n",
       "</table>\n",
       "<p>5 rows × 26 columns</p>\n",
       "</div>"
      ],
      "text/plain": [
       "   OSEBuildingID  DataYear       BuildingType PrimaryPropertyType  \\\n",
       "0             28      2015  SPS-District K-12         K-12 School   \n",
       "1             29      2015     NonResidential               Hotel   \n",
       "2             31      2015     NonResidential               Other   \n",
       "3             35      2015     NonResidential               Hotel   \n",
       "4             37      2015  SPS-District K-12         K-12 School   \n",
       "\n",
       "                                   PropertyName           Neighborhood  \\\n",
       "0  GRAHAM HILL ELEMENTARY SCHOOL (SPS-DISTRICT)              SOUTHEAST   \n",
       "1                               WATERTOWN HOTEL              NORTHEAST   \n",
       "2                                 SEATTLE HONDA               DOWNTOWN   \n",
       "3                                    Hotel Five               DOWNTOWN   \n",
       "4     JOHN HAY ELEMENTARY SCHOOL (SPS-DISTRICT)  MAGNOLIA / QUEEN ANNE   \n",
       "\n",
       "   YearBuilt  NumberofBuildings  NumberofFloors  PropertyGFATotal  ...  \\\n",
       "0       1961                1.0             2.0             56228  ...   \n",
       "1       2001                1.0             6.0             88592  ...   \n",
       "2       1930                1.0             2.0             67224  ...   \n",
       "3       1978                1.0             5.0             68410  ...   \n",
       "4       1989                1.0             2.0             51582  ...   \n",
       "\n",
       "  Electricity(kBtu) NaturalGas(kBtu)  TotalGHGEmissions  \\\n",
       "0          911659.0         542600.0              35.17   \n",
       "1         2254751.0        1626149.0             102.08   \n",
       "2         1388775.0              0.0               9.68   \n",
       "3         2276244.0        2065556.0             125.57   \n",
       "4         1472609.0              0.0              10.27   \n",
       "\n",
       "   GHGEmissionsIntensity   Latitude   Longitude                Address  State  \\\n",
       "0                   0.56  47.545701 -122.268584       5101 S GRAHAM ST     WA   \n",
       "1                   1.04  47.659533 -122.317393  4242 ROOSEVELT WAY NE     WA   \n",
       "2                   0.06  47.614906 -122.330401         1017 OLIVE WAY     WA   \n",
       "3                   1.69  47.615870 -122.341980           2200 5TH AVE     WA   \n",
       "4                   0.08  47.633032 -122.352457        201 GARFIELD ST     WA   \n",
       "\n",
       "   ZipCode  BuildingAge  \n",
       "0  98118.0           54  \n",
       "1  98105.0           14  \n",
       "2  98101.0           85  \n",
       "3  98121.0           37  \n",
       "4  98109.0           26  \n",
       "\n",
       "[5 rows x 26 columns]"
      ]
     },
     "execution_count": 255,
     "metadata": {},
     "output_type": "execute_result"
    }
   ],
   "source": [
    "df.head()"
   ]
  },
  {
   "cell_type": "code",
   "execution_count": 256,
   "metadata": {},
   "outputs": [
    {
     "data": {
      "text/plain": [
       "['OSEBuildingID',\n",
       " 'DataYear',\n",
       " 'BuildingType',\n",
       " 'PrimaryPropertyType',\n",
       " 'PropertyName',\n",
       " 'Neighborhood',\n",
       " 'YearBuilt',\n",
       " 'NumberofBuildings',\n",
       " 'NumberofFloors',\n",
       " 'PropertyGFATotal',\n",
       " 'ListOfAllPropertyUseTypes',\n",
       " 'LargestPropertyUseType',\n",
       " 'SiteEUI(kBtu/sf)',\n",
       " 'SourceEUI(kBtu/sf)',\n",
       " 'SiteEnergyUse(kBtu)',\n",
       " 'SteamUse(kBtu)',\n",
       " 'Electricity(kBtu)',\n",
       " 'NaturalGas(kBtu)',\n",
       " 'TotalGHGEmissions',\n",
       " 'GHGEmissionsIntensity',\n",
       " 'Latitude',\n",
       " 'Longitude',\n",
       " 'Address',\n",
       " 'State',\n",
       " 'ZipCode',\n",
       " 'BuildingAge']"
      ]
     },
     "execution_count": 256,
     "metadata": {},
     "output_type": "execute_result"
    }
   ],
   "source": [
    "list(df.columns)"
   ]
  },
  {
   "cell_type": "markdown",
   "metadata": {},
   "source": [
    "### Feature Selection and Engineering  ¶\n"
   ]
  },
  {
   "cell_type": "code",
   "execution_count": 257,
   "metadata": {},
   "outputs": [
    {
     "data": {
      "text/html": [
       "<div>\n",
       "<style scoped>\n",
       "    .dataframe tbody tr th:only-of-type {\n",
       "        vertical-align: middle;\n",
       "    }\n",
       "\n",
       "    .dataframe tbody tr th {\n",
       "        vertical-align: top;\n",
       "    }\n",
       "\n",
       "    .dataframe thead th {\n",
       "        text-align: right;\n",
       "    }\n",
       "</style>\n",
       "<table border=\"1\" class=\"dataframe\">\n",
       "  <thead>\n",
       "    <tr style=\"text-align: right;\">\n",
       "      <th></th>\n",
       "      <th>BuildingAge</th>\n",
       "      <th>BuildingType</th>\n",
       "      <th>PrimaryPropertyType</th>\n",
       "      <th>LargestPropertyUseType</th>\n",
       "      <th>Neighborhood</th>\n",
       "      <th>PropertyGFATotal</th>\n",
       "      <th>NumberofFloors</th>\n",
       "      <th>TotalGHGEmissions</th>\n",
       "      <th>SiteEUI(kBtu/sf)</th>\n",
       "    </tr>\n",
       "  </thead>\n",
       "  <tbody>\n",
       "    <tr>\n",
       "      <th>0</th>\n",
       "      <td>54</td>\n",
       "      <td>SPS-District K-12</td>\n",
       "      <td>K-12 School</td>\n",
       "      <td>K-12 School</td>\n",
       "      <td>SOUTHEAST</td>\n",
       "      <td>56228</td>\n",
       "      <td>2.0</td>\n",
       "      <td>35.17</td>\n",
       "      <td>25.100000</td>\n",
       "    </tr>\n",
       "    <tr>\n",
       "      <th>1</th>\n",
       "      <td>14</td>\n",
       "      <td>NonResidential</td>\n",
       "      <td>Hotel</td>\n",
       "      <td>Hotel</td>\n",
       "      <td>NORTHEAST</td>\n",
       "      <td>88592</td>\n",
       "      <td>6.0</td>\n",
       "      <td>102.08</td>\n",
       "      <td>66.900000</td>\n",
       "    </tr>\n",
       "    <tr>\n",
       "      <th>2</th>\n",
       "      <td>85</td>\n",
       "      <td>NonResidential</td>\n",
       "      <td>Other</td>\n",
       "      <td>Automobile Dealership</td>\n",
       "      <td>DOWNTOWN</td>\n",
       "      <td>67224</td>\n",
       "      <td>2.0</td>\n",
       "      <td>9.68</td>\n",
       "      <td>20.700000</td>\n",
       "    </tr>\n",
       "    <tr>\n",
       "      <th>3</th>\n",
       "      <td>37</td>\n",
       "      <td>NonResidential</td>\n",
       "      <td>Hotel</td>\n",
       "      <td>Hotel</td>\n",
       "      <td>DOWNTOWN</td>\n",
       "      <td>68410</td>\n",
       "      <td>5.0</td>\n",
       "      <td>125.57</td>\n",
       "      <td>90.500000</td>\n",
       "    </tr>\n",
       "    <tr>\n",
       "      <th>4</th>\n",
       "      <td>26</td>\n",
       "      <td>SPS-District K-12</td>\n",
       "      <td>K-12 School</td>\n",
       "      <td>K-12 School</td>\n",
       "      <td>MAGNOLIA / QUEEN ANNE</td>\n",
       "      <td>51582</td>\n",
       "      <td>2.0</td>\n",
       "      <td>10.27</td>\n",
       "      <td>26.700000</td>\n",
       "    </tr>\n",
       "    <tr>\n",
       "      <th>...</th>\n",
       "      <td>...</td>\n",
       "      <td>...</td>\n",
       "      <td>...</td>\n",
       "      <td>...</td>\n",
       "      <td>...</td>\n",
       "      <td>...</td>\n",
       "      <td>...</td>\n",
       "      <td>...</td>\n",
       "      <td>...</td>\n",
       "    </tr>\n",
       "    <tr>\n",
       "      <th>2182</th>\n",
       "      <td>2</td>\n",
       "      <td>NonResidential</td>\n",
       "      <td>Hotel</td>\n",
       "      <td>Hotel</td>\n",
       "      <td>LAKE UNION</td>\n",
       "      <td>126823</td>\n",
       "      <td>4.0</td>\n",
       "      <td>131.02</td>\n",
       "      <td>68.500000</td>\n",
       "    </tr>\n",
       "    <tr>\n",
       "      <th>2183</th>\n",
       "      <td>61</td>\n",
       "      <td>NonResidential</td>\n",
       "      <td>Warehouse</td>\n",
       "      <td>Non-Refrigerated Warehouse</td>\n",
       "      <td>GREATER DUWAMISH</td>\n",
       "      <td>52085</td>\n",
       "      <td>1.0</td>\n",
       "      <td>157.70</td>\n",
       "      <td>69.199997</td>\n",
       "    </tr>\n",
       "    <tr>\n",
       "      <th>2184</th>\n",
       "      <td>3</td>\n",
       "      <td>NonResidential</td>\n",
       "      <td>Other</td>\n",
       "      <td>Other - Recreation</td>\n",
       "      <td>NORTHEAST</td>\n",
       "      <td>72000</td>\n",
       "      <td>1.0</td>\n",
       "      <td>67.65</td>\n",
       "      <td>40.599998</td>\n",
       "    </tr>\n",
       "    <tr>\n",
       "      <th>2185</th>\n",
       "      <td>1</td>\n",
       "      <td>NonResidential</td>\n",
       "      <td>K-12 School</td>\n",
       "      <td>K-12 School</td>\n",
       "      <td>GREATER DUWAMISH</td>\n",
       "      <td>45000</td>\n",
       "      <td>3.0</td>\n",
       "      <td>9.24</td>\n",
       "      <td>29.000000</td>\n",
       "    </tr>\n",
       "    <tr>\n",
       "      <th>2186</th>\n",
       "      <td>54</td>\n",
       "      <td>Nonresidential WA</td>\n",
       "      <td>University</td>\n",
       "      <td>College/University</td>\n",
       "      <td>NORTHEAST</td>\n",
       "      <td>68072</td>\n",
       "      <td>1.0</td>\n",
       "      <td>22.17</td>\n",
       "      <td>46.200001</td>\n",
       "    </tr>\n",
       "  </tbody>\n",
       "</table>\n",
       "<p>2187 rows × 9 columns</p>\n",
       "</div>"
      ],
      "text/plain": [
       "      BuildingAge       BuildingType PrimaryPropertyType  \\\n",
       "0              54  SPS-District K-12         K-12 School   \n",
       "1              14     NonResidential               Hotel   \n",
       "2              85     NonResidential               Other   \n",
       "3              37     NonResidential               Hotel   \n",
       "4              26  SPS-District K-12         K-12 School   \n",
       "...           ...                ...                 ...   \n",
       "2182            2     NonResidential               Hotel   \n",
       "2183           61     NonResidential           Warehouse   \n",
       "2184            3     NonResidential               Other   \n",
       "2185            1     NonResidential         K-12 School   \n",
       "2186           54  Nonresidential WA          University   \n",
       "\n",
       "          LargestPropertyUseType           Neighborhood  PropertyGFATotal  \\\n",
       "0                    K-12 School              SOUTHEAST             56228   \n",
       "1                          Hotel              NORTHEAST             88592   \n",
       "2          Automobile Dealership               DOWNTOWN             67224   \n",
       "3                          Hotel               DOWNTOWN             68410   \n",
       "4                    K-12 School  MAGNOLIA / QUEEN ANNE             51582   \n",
       "...                          ...                    ...               ...   \n",
       "2182                       Hotel             LAKE UNION            126823   \n",
       "2183  Non-Refrigerated Warehouse       GREATER DUWAMISH             52085   \n",
       "2184          Other - Recreation              NORTHEAST             72000   \n",
       "2185                 K-12 School       GREATER DUWAMISH             45000   \n",
       "2186          College/University              NORTHEAST             68072   \n",
       "\n",
       "      NumberofFloors  TotalGHGEmissions  SiteEUI(kBtu/sf)  \n",
       "0                2.0              35.17         25.100000  \n",
       "1                6.0             102.08         66.900000  \n",
       "2                2.0               9.68         20.700000  \n",
       "3                5.0             125.57         90.500000  \n",
       "4                2.0              10.27         26.700000  \n",
       "...              ...                ...               ...  \n",
       "2182             4.0             131.02         68.500000  \n",
       "2183             1.0             157.70         69.199997  \n",
       "2184             1.0              67.65         40.599998  \n",
       "2185             3.0               9.24         29.000000  \n",
       "2186             1.0              22.17         46.200001  \n",
       "\n",
       "[2187 rows x 9 columns]"
      ]
     },
     "execution_count": 257,
     "metadata": {},
     "output_type": "execute_result"
    }
   ],
   "source": [
    "## Feature selection pour l'émission d'énergie\n",
    "\n",
    "df_émission=df[['BuildingAge','BuildingType', 'PrimaryPropertyType','LargestPropertyUseType','Neighborhood','PropertyGFATotal','NumberofFloors','TotalGHGEmissions','SiteEUI(kBtu/sf)']]\n",
    "df_émission"
   ]
  },
  {
   "cell_type": "code",
   "execution_count": 258,
   "metadata": {},
   "outputs": [
    {
     "data": {
      "text/html": [
       "<div>\n",
       "<style scoped>\n",
       "    .dataframe tbody tr th:only-of-type {\n",
       "        vertical-align: middle;\n",
       "    }\n",
       "\n",
       "    .dataframe tbody tr th {\n",
       "        vertical-align: top;\n",
       "    }\n",
       "\n",
       "    .dataframe thead th {\n",
       "        text-align: right;\n",
       "    }\n",
       "</style>\n",
       "<table border=\"1\" class=\"dataframe\">\n",
       "  <thead>\n",
       "    <tr style=\"text-align: right;\">\n",
       "      <th></th>\n",
       "      <th>BuildingAge</th>\n",
       "      <th>PropertyGFATotal</th>\n",
       "      <th>NumberofFloors</th>\n",
       "      <th>TotalGHGEmissions</th>\n",
       "      <th>SiteEUI(kBtu/sf)</th>\n",
       "    </tr>\n",
       "  </thead>\n",
       "  <tbody>\n",
       "    <tr>\n",
       "      <th>count</th>\n",
       "      <td>2187.000000</td>\n",
       "      <td>2187.000000</td>\n",
       "      <td>2187.000000</td>\n",
       "      <td>2187.000000</td>\n",
       "      <td>2187.000000</td>\n",
       "    </tr>\n",
       "    <tr>\n",
       "      <th>mean</th>\n",
       "      <td>57.133059</td>\n",
       "      <td>53657.601738</td>\n",
       "      <td>2.496571</td>\n",
       "      <td>43.465569</td>\n",
       "      <td>46.717010</td>\n",
       "    </tr>\n",
       "    <tr>\n",
       "      <th>std</th>\n",
       "      <td>32.147378</td>\n",
       "      <td>37755.208484</td>\n",
       "      <td>1.530825</td>\n",
       "      <td>42.337535</td>\n",
       "      <td>27.341498</td>\n",
       "    </tr>\n",
       "    <tr>\n",
       "      <th>min</th>\n",
       "      <td>1.000000</td>\n",
       "      <td>16300.000000</td>\n",
       "      <td>0.000000</td>\n",
       "      <td>-0.800000</td>\n",
       "      <td>0.000000</td>\n",
       "    </tr>\n",
       "    <tr>\n",
       "      <th>25%</th>\n",
       "      <td>32.000000</td>\n",
       "      <td>27000.000000</td>\n",
       "      <td>1.000000</td>\n",
       "      <td>13.005000</td>\n",
       "      <td>27.500000</td>\n",
       "    </tr>\n",
       "    <tr>\n",
       "      <th>50%</th>\n",
       "      <td>53.000000</td>\n",
       "      <td>40304.000000</td>\n",
       "      <td>2.000000</td>\n",
       "      <td>30.790000</td>\n",
       "      <td>42.599998</td>\n",
       "    </tr>\n",
       "    <tr>\n",
       "      <th>75%</th>\n",
       "      <td>87.000000</td>\n",
       "      <td>64587.000000</td>\n",
       "      <td>3.000000</td>\n",
       "      <td>59.180000</td>\n",
       "      <td>62.500000</td>\n",
       "    </tr>\n",
       "    <tr>\n",
       "      <th>max</th>\n",
       "      <td>116.000000</td>\n",
       "      <td>213283.000000</td>\n",
       "      <td>8.000000</td>\n",
       "      <td>230.450000</td>\n",
       "      <td>150.200000</td>\n",
       "    </tr>\n",
       "  </tbody>\n",
       "</table>\n",
       "</div>"
      ],
      "text/plain": [
       "       BuildingAge  PropertyGFATotal  NumberofFloors  TotalGHGEmissions  \\\n",
       "count  2187.000000       2187.000000     2187.000000        2187.000000   \n",
       "mean     57.133059      53657.601738        2.496571          43.465569   \n",
       "std      32.147378      37755.208484        1.530825          42.337535   \n",
       "min       1.000000      16300.000000        0.000000          -0.800000   \n",
       "25%      32.000000      27000.000000        1.000000          13.005000   \n",
       "50%      53.000000      40304.000000        2.000000          30.790000   \n",
       "75%      87.000000      64587.000000        3.000000          59.180000   \n",
       "max     116.000000     213283.000000        8.000000         230.450000   \n",
       "\n",
       "       SiteEUI(kBtu/sf)  \n",
       "count       2187.000000  \n",
       "mean          46.717010  \n",
       "std           27.341498  \n",
       "min            0.000000  \n",
       "25%           27.500000  \n",
       "50%           42.599998  \n",
       "75%           62.500000  \n",
       "max          150.200000  "
      ]
     },
     "execution_count": 258,
     "metadata": {},
     "output_type": "execute_result"
    }
   ],
   "source": [
    "df_émission.describe()"
   ]
  },
  {
   "cell_type": "code",
   "execution_count": 259,
   "metadata": {},
   "outputs": [
    {
     "name": "stderr",
     "output_type": "stream",
     "text": [
      "C:\\Users\\Tewod\\Anaconda3\\lib\\site-packages\\pandas\\core\\frame.py:3065: SettingWithCopyWarning: \n",
      "A value is trying to be set on a copy of a slice from a DataFrame.\n",
      "Try using .loc[row_indexer,col_indexer] = value instead\n",
      "\n",
      "See the caveats in the documentation: https://pandas.pydata.org/pandas-docs/stable/user_guide/indexing.html#returning-a-view-versus-a-copy\n",
      "  self[k1] = value[k2]\n"
     ]
    },
    {
     "data": {
      "text/html": [
       "<div>\n",
       "<style scoped>\n",
       "    .dataframe tbody tr th:only-of-type {\n",
       "        vertical-align: middle;\n",
       "    }\n",
       "\n",
       "    .dataframe tbody tr th {\n",
       "        vertical-align: top;\n",
       "    }\n",
       "\n",
       "    .dataframe thead th {\n",
       "        text-align: right;\n",
       "    }\n",
       "</style>\n",
       "<table border=\"1\" class=\"dataframe\">\n",
       "  <thead>\n",
       "    <tr style=\"text-align: right;\">\n",
       "      <th></th>\n",
       "      <th>PropertyGFATotal</th>\n",
       "    </tr>\n",
       "  </thead>\n",
       "  <tbody>\n",
       "    <tr>\n",
       "      <th>0</th>\n",
       "      <td>10.937170</td>\n",
       "    </tr>\n",
       "    <tr>\n",
       "      <th>1</th>\n",
       "      <td>11.391797</td>\n",
       "    </tr>\n",
       "    <tr>\n",
       "      <th>2</th>\n",
       "      <td>11.115786</td>\n",
       "    </tr>\n",
       "    <tr>\n",
       "      <th>3</th>\n",
       "      <td>11.133274</td>\n",
       "    </tr>\n",
       "    <tr>\n",
       "      <th>4</th>\n",
       "      <td>10.850928</td>\n",
       "    </tr>\n",
       "    <tr>\n",
       "      <th>...</th>\n",
       "      <td>...</td>\n",
       "    </tr>\n",
       "    <tr>\n",
       "      <th>2182</th>\n",
       "      <td>11.750548</td>\n",
       "    </tr>\n",
       "    <tr>\n",
       "      <th>2183</th>\n",
       "      <td>10.860632</td>\n",
       "    </tr>\n",
       "    <tr>\n",
       "      <th>2184</th>\n",
       "      <td>11.184421</td>\n",
       "    </tr>\n",
       "    <tr>\n",
       "      <th>2185</th>\n",
       "      <td>10.714418</td>\n",
       "    </tr>\n",
       "    <tr>\n",
       "      <th>2186</th>\n",
       "      <td>11.128321</td>\n",
       "    </tr>\n",
       "  </tbody>\n",
       "</table>\n",
       "<p>2187 rows × 1 columns</p>\n",
       "</div>"
      ],
      "text/plain": [
       "      PropertyGFATotal\n",
       "0            10.937170\n",
       "1            11.391797\n",
       "2            11.115786\n",
       "3            11.133274\n",
       "4            10.850928\n",
       "...                ...\n",
       "2182         11.750548\n",
       "2183         10.860632\n",
       "2184         11.184421\n",
       "2185         10.714418\n",
       "2186         11.128321\n",
       "\n",
       "[2187 rows x 1 columns]"
      ]
     },
     "execution_count": 259,
     "metadata": {},
     "output_type": "execute_result"
    }
   ],
   "source": [
    "\n",
    "## Logarithmique Transformation pour réduire l'asymétrie.\n",
    "\n",
    "# Nous n'avons pas pu transformer logarithmique les consommations d'énergie et les émissions de CO2 en raison de la présence de 0 et de valeurs négative\n",
    "\n",
    "df_émission[['PropertyGFATotal']]=np.log(df_émission[['PropertyGFATotal']])\n",
    "df_émission[['PropertyGFATotal']]"
   ]
  },
  {
   "cell_type": "code",
   "execution_count": 260,
   "metadata": {},
   "outputs": [
    {
     "name": "stderr",
     "output_type": "stream",
     "text": [
      "C:\\Users\\Tewod\\Anaconda3\\lib\\site-packages\\pandas\\core\\frame.py:3065: SettingWithCopyWarning: \n",
      "A value is trying to be set on a copy of a slice from a DataFrame.\n",
      "Try using .loc[row_indexer,col_indexer] = value instead\n",
      "\n",
      "See the caveats in the documentation: https://pandas.pydata.org/pandas-docs/stable/user_guide/indexing.html#returning-a-view-versus-a-copy\n",
      "  self[k1] = value[k2]\n"
     ]
    },
    {
     "data": {
      "text/html": [
       "<div>\n",
       "<style scoped>\n",
       "    .dataframe tbody tr th:only-of-type {\n",
       "        vertical-align: middle;\n",
       "    }\n",
       "\n",
       "    .dataframe tbody tr th {\n",
       "        vertical-align: top;\n",
       "    }\n",
       "\n",
       "    .dataframe thead th {\n",
       "        text-align: right;\n",
       "    }\n",
       "</style>\n",
       "<table border=\"1\" class=\"dataframe\">\n",
       "  <thead>\n",
       "    <tr style=\"text-align: right;\">\n",
       "      <th></th>\n",
       "      <th>BuildingType</th>\n",
       "      <th>PrimaryPropertyType</th>\n",
       "      <th>LargestPropertyUseType</th>\n",
       "      <th>Neighborhood</th>\n",
       "    </tr>\n",
       "  </thead>\n",
       "  <tbody>\n",
       "    <tr>\n",
       "      <th>0</th>\n",
       "      <td>4</td>\n",
       "      <td>5</td>\n",
       "      <td>11</td>\n",
       "      <td>16</td>\n",
       "    </tr>\n",
       "    <tr>\n",
       "      <th>1</th>\n",
       "      <td>1</td>\n",
       "      <td>4</td>\n",
       "      <td>10</td>\n",
       "      <td>12</td>\n",
       "    </tr>\n",
       "    <tr>\n",
       "      <th>2</th>\n",
       "      <td>1</td>\n",
       "      <td>12</td>\n",
       "      <td>1</td>\n",
       "      <td>5</td>\n",
       "    </tr>\n",
       "    <tr>\n",
       "      <th>3</th>\n",
       "      <td>1</td>\n",
       "      <td>4</td>\n",
       "      <td>10</td>\n",
       "      <td>5</td>\n",
       "    </tr>\n",
       "    <tr>\n",
       "      <th>4</th>\n",
       "      <td>4</td>\n",
       "      <td>5</td>\n",
       "      <td>11</td>\n",
       "      <td>10</td>\n",
       "    </tr>\n",
       "  </tbody>\n",
       "</table>\n",
       "</div>"
      ],
      "text/plain": [
       "   BuildingType  PrimaryPropertyType  LargestPropertyUseType  Neighborhood\n",
       "0             4                    5                      11            16\n",
       "1             1                    4                      10            12\n",
       "2             1                   12                       1             5\n",
       "3             1                    4                      10             5\n",
       "4             4                    5                      11            10"
      ]
     },
     "execution_count": 260,
     "metadata": {},
     "output_type": "execute_result"
    }
   ],
   "source": [
    "## Nous changeons les données catagoriques en numérique en utilisant LabelEncoder()\n",
    "\n",
    "from sklearn import preprocessing\n",
    "le = preprocessing.LabelEncoder()\n",
    "\n",
    "df_émission[['BuildingType', 'PrimaryPropertyType','LargestPropertyUseType','Neighborhood']] = df_émission[['BuildingType', 'PrimaryPropertyType','LargestPropertyUseType','Neighborhood']].apply(le.fit_transform)\n",
    "df_émission[['BuildingType', 'PrimaryPropertyType','LargestPropertyUseType','Neighborhood']].head()"
   ]
  },
  {
   "cell_type": "code",
   "execution_count": 261,
   "metadata": {
    "scrolled": false
   },
   "outputs": [
    {
     "data": {
      "text/html": [
       "<div>\n",
       "<style scoped>\n",
       "    .dataframe tbody tr th:only-of-type {\n",
       "        vertical-align: middle;\n",
       "    }\n",
       "\n",
       "    .dataframe tbody tr th {\n",
       "        vertical-align: top;\n",
       "    }\n",
       "\n",
       "    .dataframe thead th {\n",
       "        text-align: right;\n",
       "    }\n",
       "</style>\n",
       "<table border=\"1\" class=\"dataframe\">\n",
       "  <thead>\n",
       "    <tr style=\"text-align: right;\">\n",
       "      <th></th>\n",
       "      <th>BuildingAge</th>\n",
       "      <th>BuildingType</th>\n",
       "      <th>PrimaryPropertyType</th>\n",
       "      <th>LargestPropertyUseType</th>\n",
       "      <th>Neighborhood</th>\n",
       "      <th>PropertyGFATotal</th>\n",
       "      <th>NumberofFloors</th>\n",
       "      <th>TotalGHGEmissions</th>\n",
       "      <th>SiteEUI(kBtu/sf)</th>\n",
       "    </tr>\n",
       "  </thead>\n",
       "  <tbody>\n",
       "    <tr>\n",
       "      <th>0</th>\n",
       "      <td>54</td>\n",
       "      <td>4</td>\n",
       "      <td>5</td>\n",
       "      <td>11</td>\n",
       "      <td>16</td>\n",
       "      <td>10.937170</td>\n",
       "      <td>2.0</td>\n",
       "      <td>35.17</td>\n",
       "      <td>25.100000</td>\n",
       "    </tr>\n",
       "    <tr>\n",
       "      <th>1</th>\n",
       "      <td>14</td>\n",
       "      <td>1</td>\n",
       "      <td>4</td>\n",
       "      <td>10</td>\n",
       "      <td>12</td>\n",
       "      <td>11.391797</td>\n",
       "      <td>6.0</td>\n",
       "      <td>102.08</td>\n",
       "      <td>66.900000</td>\n",
       "    </tr>\n",
       "    <tr>\n",
       "      <th>2</th>\n",
       "      <td>85</td>\n",
       "      <td>1</td>\n",
       "      <td>12</td>\n",
       "      <td>1</td>\n",
       "      <td>5</td>\n",
       "      <td>11.115786</td>\n",
       "      <td>2.0</td>\n",
       "      <td>9.68</td>\n",
       "      <td>20.700000</td>\n",
       "    </tr>\n",
       "    <tr>\n",
       "      <th>3</th>\n",
       "      <td>37</td>\n",
       "      <td>1</td>\n",
       "      <td>4</td>\n",
       "      <td>10</td>\n",
       "      <td>5</td>\n",
       "      <td>11.133274</td>\n",
       "      <td>5.0</td>\n",
       "      <td>125.57</td>\n",
       "      <td>90.500000</td>\n",
       "    </tr>\n",
       "    <tr>\n",
       "      <th>4</th>\n",
       "      <td>26</td>\n",
       "      <td>4</td>\n",
       "      <td>5</td>\n",
       "      <td>11</td>\n",
       "      <td>10</td>\n",
       "      <td>10.850928</td>\n",
       "      <td>2.0</td>\n",
       "      <td>10.27</td>\n",
       "      <td>26.700000</td>\n",
       "    </tr>\n",
       "    <tr>\n",
       "      <th>...</th>\n",
       "      <td>...</td>\n",
       "      <td>...</td>\n",
       "      <td>...</td>\n",
       "      <td>...</td>\n",
       "      <td>...</td>\n",
       "      <td>...</td>\n",
       "      <td>...</td>\n",
       "      <td>...</td>\n",
       "      <td>...</td>\n",
       "    </tr>\n",
       "    <tr>\n",
       "      <th>2182</th>\n",
       "      <td>2</td>\n",
       "      <td>1</td>\n",
       "      <td>4</td>\n",
       "      <td>10</td>\n",
       "      <td>9</td>\n",
       "      <td>11.750548</td>\n",
       "      <td>4.0</td>\n",
       "      <td>131.02</td>\n",
       "      <td>68.500000</td>\n",
       "    </tr>\n",
       "    <tr>\n",
       "      <th>2183</th>\n",
       "      <td>61</td>\n",
       "      <td>1</td>\n",
       "      <td>26</td>\n",
       "      <td>19</td>\n",
       "      <td>8</td>\n",
       "      <td>10.860632</td>\n",
       "      <td>1.0</td>\n",
       "      <td>157.70</td>\n",
       "      <td>69.199997</td>\n",
       "    </tr>\n",
       "    <tr>\n",
       "      <th>2184</th>\n",
       "      <td>3</td>\n",
       "      <td>1</td>\n",
       "      <td>12</td>\n",
       "      <td>27</td>\n",
       "      <td>12</td>\n",
       "      <td>11.184421</td>\n",
       "      <td>1.0</td>\n",
       "      <td>67.65</td>\n",
       "      <td>40.599998</td>\n",
       "    </tr>\n",
       "    <tr>\n",
       "      <th>2185</th>\n",
       "      <td>1</td>\n",
       "      <td>1</td>\n",
       "      <td>5</td>\n",
       "      <td>11</td>\n",
       "      <td>8</td>\n",
       "      <td>10.714418</td>\n",
       "      <td>3.0</td>\n",
       "      <td>9.24</td>\n",
       "      <td>29.000000</td>\n",
       "    </tr>\n",
       "    <tr>\n",
       "      <th>2186</th>\n",
       "      <td>54</td>\n",
       "      <td>3</td>\n",
       "      <td>25</td>\n",
       "      <td>3</td>\n",
       "      <td>12</td>\n",
       "      <td>11.128321</td>\n",
       "      <td>1.0</td>\n",
       "      <td>22.17</td>\n",
       "      <td>46.200001</td>\n",
       "    </tr>\n",
       "  </tbody>\n",
       "</table>\n",
       "<p>2187 rows × 9 columns</p>\n",
       "</div>"
      ],
      "text/plain": [
       "      BuildingAge  BuildingType  PrimaryPropertyType  LargestPropertyUseType  \\\n",
       "0              54             4                    5                      11   \n",
       "1              14             1                    4                      10   \n",
       "2              85             1                   12                       1   \n",
       "3              37             1                    4                      10   \n",
       "4              26             4                    5                      11   \n",
       "...           ...           ...                  ...                     ...   \n",
       "2182            2             1                    4                      10   \n",
       "2183           61             1                   26                      19   \n",
       "2184            3             1                   12                      27   \n",
       "2185            1             1                    5                      11   \n",
       "2186           54             3                   25                       3   \n",
       "\n",
       "      Neighborhood  PropertyGFATotal  NumberofFloors  TotalGHGEmissions  \\\n",
       "0               16         10.937170             2.0              35.17   \n",
       "1               12         11.391797             6.0             102.08   \n",
       "2                5         11.115786             2.0               9.68   \n",
       "3                5         11.133274             5.0             125.57   \n",
       "4               10         10.850928             2.0              10.27   \n",
       "...            ...               ...             ...                ...   \n",
       "2182             9         11.750548             4.0             131.02   \n",
       "2183             8         10.860632             1.0             157.70   \n",
       "2184            12         11.184421             1.0              67.65   \n",
       "2185             8         10.714418             3.0               9.24   \n",
       "2186            12         11.128321             1.0              22.17   \n",
       "\n",
       "      SiteEUI(kBtu/sf)  \n",
       "0            25.100000  \n",
       "1            66.900000  \n",
       "2            20.700000  \n",
       "3            90.500000  \n",
       "4            26.700000  \n",
       "...                ...  \n",
       "2182         68.500000  \n",
       "2183         69.199997  \n",
       "2184         40.599998  \n",
       "2185         29.000000  \n",
       "2186         46.200001  \n",
       "\n",
       "[2187 rows x 9 columns]"
      ]
     },
     "execution_count": 261,
     "metadata": {},
     "output_type": "execute_result"
    }
   ],
   "source": [
    "df_émission"
   ]
  },
  {
   "cell_type": "markdown",
   "metadata": {},
   "source": [
    " ### Distribution des données"
   ]
  },
  {
   "cell_type": "code",
   "execution_count": 262,
   "metadata": {},
   "outputs": [
    {
     "data": {
      "image/png": "[encoded data removed]",
      "text/plain": [
       "<Figure size 1080x1080 with 9 Axes>"
      ]
     },
     "metadata": {
      "needs_background": "light"
     },
     "output_type": "display_data"
    }
   ],
   "source": [
    "df_émission.hist(bins=50, figsize=(15,15))\n",
    "plt.show()"
   ]
  },
  {
   "cell_type": "markdown",
   "metadata": {},
   "source": [
    "## Classification des fonctionnalités et étiquette"
   ]
  },
  {
   "cell_type": "code",
   "execution_count": 264,
   "metadata": {},
   "outputs": [],
   "source": [
    "# TotalGHGEmissions est considéré comme mesurant les émissions de CO2 des variables\n",
    "\n",
    "X = df_émission.drop(['TotalGHGEmissions'], axis=1)\n",
    "y = df_émission['TotalGHGEmissions']"
   ]
  },
  {
   "cell_type": "markdown",
   "metadata": {},
   "source": [
    "### Diviser les données en données d'entraînement et de test"
   ]
  },
  {
   "cell_type": "code",
   "execution_count": 265,
   "metadata": {},
   "outputs": [
    {
     "name": "stdout",
     "output_type": "stream",
     "text": [
      "Entrainement: 1465 lignes,\n",
      "Test: 722 lignes.\n",
      "\n"
     ]
    }
   ],
   "source": [
    "# Cette opération est important avant la normalisation des données afin d'éviter les fuites de données\n",
    "\n",
    "from sklearn.model_selection import train_test_split\n",
    "\n",
    "X_train, X_test, y_train, y_test = train_test_split(\n",
    " X, y, test_size=0.33,random_state=42)\n",
    "\n",
    "print(\"Entrainement: {} lignes,\\nTest: {} lignes.\\n\".format(X_train.shape[0],\n",
    "                                                            X_test.shape[0]))\n"
   ]
  },
  {
   "cell_type": "markdown",
   "metadata": {},
   "source": [
    "### Standardisation de la jeux d'entrainment"
   ]
  },
  {
   "cell_type": "code",
   "execution_count": 266,
   "metadata": {},
   "outputs": [],
   "source": [
    "\n",
    "from sklearn import preprocessing\n",
    "\n",
    "\n",
    "Scaler = preprocessing.StandardScaler()\n",
    "\n",
    "Scaler.fit(X_train)\n",
    "\n",
    "X_train=Scaler.transform(X_train)\n",
    "\n",
    "X_test= Scaler.fit_transform(X_test)\n",
    "\n",
    "X_train = pd.DataFrame(X_train, columns=X.columns)"
   ]
  },
  {
   "cell_type": "code",
   "execution_count": 267,
   "metadata": {},
   "outputs": [
    {
     "data": {
      "text/html": [
       "<div>\n",
       "<style scoped>\n",
       "    .dataframe tbody tr th:only-of-type {\n",
       "        vertical-align: middle;\n",
       "    }\n",
       "\n",
       "    .dataframe tbody tr th {\n",
       "        vertical-align: top;\n",
       "    }\n",
       "\n",
       "    .dataframe thead th {\n",
       "        text-align: right;\n",
       "    }\n",
       "</style>\n",
       "<table border=\"1\" class=\"dataframe\">\n",
       "  <thead>\n",
       "    <tr style=\"text-align: right;\">\n",
       "      <th></th>\n",
       "      <th>BuildingAge</th>\n",
       "      <th>BuildingType</th>\n",
       "      <th>PrimaryPropertyType</th>\n",
       "      <th>LargestPropertyUseType</th>\n",
       "      <th>Neighborhood</th>\n",
       "      <th>PropertyGFATotal</th>\n",
       "      <th>NumberofFloors</th>\n",
       "      <th>SiteEUI(kBtu/sf)</th>\n",
       "    </tr>\n",
       "  </thead>\n",
       "  <tbody>\n",
       "    <tr>\n",
       "      <th>0</th>\n",
       "      <td>0.879689</td>\n",
       "      <td>-0.311795</td>\n",
       "      <td>-1.301144</td>\n",
       "      <td>-0.950521</td>\n",
       "      <td>0.718705</td>\n",
       "      <td>-1.073227</td>\n",
       "      <td>-0.317719</td>\n",
       "      <td>-0.461634</td>\n",
       "    </tr>\n",
       "    <tr>\n",
       "      <th>1</th>\n",
       "      <td>-0.581296</td>\n",
       "      <td>-0.311795</td>\n",
       "      <td>0.100362</td>\n",
       "      <td>1.423620</td>\n",
       "      <td>0.182740</td>\n",
       "      <td>-0.896138</td>\n",
       "      <td>-0.317719</td>\n",
       "      <td>3.435582</td>\n",
       "    </tr>\n",
       "    <tr>\n",
       "      <th>2</th>\n",
       "      <td>-1.265161</td>\n",
       "      <td>-0.311795</td>\n",
       "      <td>0.864820</td>\n",
       "      <td>-0.238278</td>\n",
       "      <td>-2.229101</td>\n",
       "      <td>-0.751675</td>\n",
       "      <td>0.989748</td>\n",
       "      <td>-0.040807</td>\n",
       "    </tr>\n",
       "    <tr>\n",
       "      <th>3</th>\n",
       "      <td>-0.923229</td>\n",
       "      <td>-0.311795</td>\n",
       "      <td>-0.791506</td>\n",
       "      <td>-0.633969</td>\n",
       "      <td>0.718705</td>\n",
       "      <td>-0.751854</td>\n",
       "      <td>0.336015</td>\n",
       "      <td>-0.000555</td>\n",
       "    </tr>\n",
       "    <tr>\n",
       "      <th>4</th>\n",
       "      <td>0.599926</td>\n",
       "      <td>-0.311795</td>\n",
       "      <td>1.247050</td>\n",
       "      <td>-1.583625</td>\n",
       "      <td>0.182740</td>\n",
       "      <td>-0.134927</td>\n",
       "      <td>-0.317719</td>\n",
       "      <td>0.815482</td>\n",
       "    </tr>\n",
       "    <tr>\n",
       "      <th>...</th>\n",
       "      <td>...</td>\n",
       "      <td>...</td>\n",
       "      <td>...</td>\n",
       "      <td>...</td>\n",
       "      <td>...</td>\n",
       "      <td>...</td>\n",
       "      <td>...</td>\n",
       "      <td>...</td>\n",
       "    </tr>\n",
       "    <tr>\n",
       "      <th>1460</th>\n",
       "      <td>-1.234076</td>\n",
       "      <td>-0.311795</td>\n",
       "      <td>-0.409276</td>\n",
       "      <td>0.790516</td>\n",
       "      <td>-0.353225</td>\n",
       "      <td>1.121193</td>\n",
       "      <td>-0.317719</td>\n",
       "      <td>2.048686</td>\n",
       "    </tr>\n",
       "    <tr>\n",
       "      <th>1461</th>\n",
       "      <td>-0.115024</td>\n",
       "      <td>0.936235</td>\n",
       "      <td>-0.409276</td>\n",
       "      <td>-0.159140</td>\n",
       "      <td>0.450723</td>\n",
       "      <td>-0.742403</td>\n",
       "      <td>-0.971452</td>\n",
       "      <td>1.741300</td>\n",
       "    </tr>\n",
       "    <tr>\n",
       "      <th>1462</th>\n",
       "      <td>-0.332618</td>\n",
       "      <td>-0.311795</td>\n",
       "      <td>0.864820</td>\n",
       "      <td>-0.238278</td>\n",
       "      <td>0.450723</td>\n",
       "      <td>0.918521</td>\n",
       "      <td>0.989748</td>\n",
       "      <td>0.800845</td>\n",
       "    </tr>\n",
       "    <tr>\n",
       "      <th>1463</th>\n",
       "      <td>0.071484</td>\n",
       "      <td>-0.311795</td>\n",
       "      <td>1.374459</td>\n",
       "      <td>-0.317416</td>\n",
       "      <td>-0.085242</td>\n",
       "      <td>0.222331</td>\n",
       "      <td>-0.971452</td>\n",
       "      <td>0.142160</td>\n",
       "    </tr>\n",
       "    <tr>\n",
       "      <th>1464</th>\n",
       "      <td>-0.394787</td>\n",
       "      <td>-0.311795</td>\n",
       "      <td>0.864820</td>\n",
       "      <td>-0.238278</td>\n",
       "      <td>-1.693136</td>\n",
       "      <td>-0.191634</td>\n",
       "      <td>-0.317719</td>\n",
       "      <td>0.193391</td>\n",
       "    </tr>\n",
       "  </tbody>\n",
       "</table>\n",
       "<p>1465 rows × 8 columns</p>\n",
       "</div>"
      ],
      "text/plain": [
       "      BuildingAge  BuildingType  PrimaryPropertyType  LargestPropertyUseType  \\\n",
       "0        0.879689     -0.311795            -1.301144               -0.950521   \n",
       "1       -0.581296     -0.311795             0.100362                1.423620   \n",
       "2       -1.265161     -0.311795             0.864820               -0.238278   \n",
       "3       -0.923229     -0.311795            -0.791506               -0.633969   \n",
       "4        0.599926     -0.311795             1.247050               -1.583625   \n",
       "...           ...           ...                  ...                     ...   \n",
       "1460    -1.234076     -0.311795            -0.409276                0.790516   \n",
       "1461    -0.115024      0.936235            -0.409276               -0.159140   \n",
       "1462    -0.332618     -0.311795             0.864820               -0.238278   \n",
       "1463     0.071484     -0.311795             1.374459               -0.317416   \n",
       "1464    -0.394787     -0.311795             0.864820               -0.238278   \n",
       "\n",
       "      Neighborhood  PropertyGFATotal  NumberofFloors  SiteEUI(kBtu/sf)  \n",
       "0         0.718705         -1.073227       -0.317719         -0.461634  \n",
       "1         0.182740         -0.896138       -0.317719          3.435582  \n",
       "2        -2.229101         -0.751675        0.989748         -0.040807  \n",
       "3         0.718705         -0.751854        0.336015         -0.000555  \n",
       "4         0.182740         -0.134927       -0.317719          0.815482  \n",
       "...            ...               ...             ...               ...  \n",
       "1460     -0.353225          1.121193       -0.317719          2.048686  \n",
       "1461      0.450723         -0.742403       -0.971452          1.741300  \n",
       "1462      0.450723          0.918521        0.989748          0.800845  \n",
       "1463     -0.085242          0.222331       -0.971452          0.142160  \n",
       "1464     -1.693136         -0.191634       -0.317719          0.193391  \n",
       "\n",
       "[1465 rows x 8 columns]"
      ]
     },
     "execution_count": 267,
     "metadata": {},
     "output_type": "execute_result"
    }
   ],
   "source": [
    "X_train"
   ]
  },
  {
   "cell_type": "code",
   "execution_count": 268,
   "metadata": {},
   "outputs": [
    {
     "data": {
      "text/plain": [
       "BuildingAge              -4.857699e-17\n",
       "BuildingType              3.402663e-17\n",
       "PrimaryPropertyType       1.756653e-16\n",
       "LargestPropertyUseType    5.329449e-17\n",
       "Neighborhood              2.081005e-16\n",
       "PropertyGFATotal         -2.562872e-15\n",
       "NumberofFloors           -1.141673e-16\n",
       "SiteEUI(kBtu/sf)          3.789157e-19\n",
       "dtype: float64"
      ]
     },
     "execution_count": 268,
     "metadata": {},
     "output_type": "execute_result"
    }
   ],
   "source": [
    "X_train.mean(axis=0)"
   ]
  },
  {
   "cell_type": "code",
   "execution_count": 269,
   "metadata": {},
   "outputs": [
    {
     "data": {
      "text/plain": [
       "BuildingAge               1.000341\n",
       "BuildingType              1.000341\n",
       "PrimaryPropertyType       1.000341\n",
       "LargestPropertyUseType    1.000341\n",
       "Neighborhood              1.000341\n",
       "PropertyGFATotal          1.000341\n",
       "NumberofFloors            1.000341\n",
       "SiteEUI(kBtu/sf)          1.000341\n",
       "dtype: float64"
      ]
     },
     "execution_count": 269,
     "metadata": {},
     "output_type": "execute_result"
    }
   ],
   "source": [
    "X_train.std(axis=0)\n"
   ]
  },
  {
   "cell_type": "code",
   "execution_count": 270,
   "metadata": {},
   "outputs": [
    {
     "data": {
      "text/html": [
       "<div>\n",
       "<style scoped>\n",
       "    .dataframe tbody tr th:only-of-type {\n",
       "        vertical-align: middle;\n",
       "    }\n",
       "\n",
       "    .dataframe tbody tr th {\n",
       "        vertical-align: top;\n",
       "    }\n",
       "\n",
       "    .dataframe thead th {\n",
       "        text-align: right;\n",
       "    }\n",
       "</style>\n",
       "<table border=\"1\" class=\"dataframe\">\n",
       "  <thead>\n",
       "    <tr style=\"text-align: right;\">\n",
       "      <th></th>\n",
       "      <th>BuildingAge</th>\n",
       "      <th>BuildingType</th>\n",
       "      <th>PrimaryPropertyType</th>\n",
       "      <th>LargestPropertyUseType</th>\n",
       "      <th>Neighborhood</th>\n",
       "      <th>PropertyGFATotal</th>\n",
       "      <th>NumberofFloors</th>\n",
       "      <th>SiteEUI(kBtu/sf)</th>\n",
       "    </tr>\n",
       "  </thead>\n",
       "  <tbody>\n",
       "    <tr>\n",
       "      <th>0</th>\n",
       "      <td>-1.310348</td>\n",
       "      <td>-0.281202</td>\n",
       "      <td>-0.654445</td>\n",
       "      <td>-0.204605</td>\n",
       "      <td>0.775781</td>\n",
       "      <td>-0.607683</td>\n",
       "      <td>0.967441</td>\n",
       "      <td>-0.304843</td>\n",
       "    </tr>\n",
       "    <tr>\n",
       "      <th>1</th>\n",
       "      <td>1.590372</td>\n",
       "      <td>-0.281202</td>\n",
       "      <td>-1.804412</td>\n",
       "      <td>-1.548321</td>\n",
       "      <td>-0.023620</td>\n",
       "      <td>0.417768</td>\n",
       "      <td>0.967441</td>\n",
       "      <td>-1.051183</td>\n",
       "    </tr>\n",
       "    <tr>\n",
       "      <th>2</th>\n",
       "      <td>-0.093917</td>\n",
       "      <td>-0.281202</td>\n",
       "      <td>-0.398896</td>\n",
       "      <td>-0.120623</td>\n",
       "      <td>-0.023620</td>\n",
       "      <td>-0.783493</td>\n",
       "      <td>-0.990949</td>\n",
       "      <td>-1.354840</td>\n",
       "    </tr>\n",
       "    <tr>\n",
       "      <th>3</th>\n",
       "      <td>-0.374632</td>\n",
       "      <td>-0.281202</td>\n",
       "      <td>0.878846</td>\n",
       "      <td>-0.204605</td>\n",
       "      <td>-0.023620</td>\n",
       "      <td>-0.760862</td>\n",
       "      <td>-0.338152</td>\n",
       "      <td>-0.030454</td>\n",
       "    </tr>\n",
       "    <tr>\n",
       "      <th>4</th>\n",
       "      <td>0.872989</td>\n",
       "      <td>-0.281202</td>\n",
       "      <td>-0.015574</td>\n",
       "      <td>1.391057</td>\n",
       "      <td>1.042249</td>\n",
       "      <td>-1.183390</td>\n",
       "      <td>0.314644</td>\n",
       "      <td>-0.604843</td>\n",
       "    </tr>\n",
       "    <tr>\n",
       "      <th>...</th>\n",
       "      <td>...</td>\n",
       "      <td>...</td>\n",
       "      <td>...</td>\n",
       "      <td>...</td>\n",
       "      <td>...</td>\n",
       "      <td>...</td>\n",
       "      <td>...</td>\n",
       "      <td>...</td>\n",
       "    </tr>\n",
       "    <tr>\n",
       "      <th>717</th>\n",
       "      <td>1.216085</td>\n",
       "      <td>-0.281202</td>\n",
       "      <td>-0.398896</td>\n",
       "      <td>-0.120623</td>\n",
       "      <td>-0.023620</td>\n",
       "      <td>-0.901555</td>\n",
       "      <td>-0.990949</td>\n",
       "      <td>0.415886</td>\n",
       "    </tr>\n",
       "    <tr>\n",
       "      <th>718</th>\n",
       "      <td>1.777515</td>\n",
       "      <td>-0.281202</td>\n",
       "      <td>0.878846</td>\n",
       "      <td>-0.204605</td>\n",
       "      <td>-0.823022</td>\n",
       "      <td>-0.548901</td>\n",
       "      <td>-0.338152</td>\n",
       "      <td>1.868321</td>\n",
       "    </tr>\n",
       "    <tr>\n",
       "      <th>719</th>\n",
       "      <td>-1.341538</td>\n",
       "      <td>-0.281202</td>\n",
       "      <td>-1.421090</td>\n",
       "      <td>-1.044427</td>\n",
       "      <td>0.242847</td>\n",
       "      <td>2.104672</td>\n",
       "      <td>2.925830</td>\n",
       "      <td>0.485398</td>\n",
       "    </tr>\n",
       "    <tr>\n",
       "      <th>720</th>\n",
       "      <td>-0.125108</td>\n",
       "      <td>-0.281202</td>\n",
       "      <td>-0.398896</td>\n",
       "      <td>0.047342</td>\n",
       "      <td>0.509314</td>\n",
       "      <td>-1.119772</td>\n",
       "      <td>0.314644</td>\n",
       "      <td>1.513444</td>\n",
       "    </tr>\n",
       "    <tr>\n",
       "      <th>721</th>\n",
       "      <td>-1.747015</td>\n",
       "      <td>-0.281202</td>\n",
       "      <td>-1.421090</td>\n",
       "      <td>-1.044427</td>\n",
       "      <td>-2.155358</td>\n",
       "      <td>0.594607</td>\n",
       "      <td>0.967441</td>\n",
       "      <td>0.463447</td>\n",
       "    </tr>\n",
       "  </tbody>\n",
       "</table>\n",
       "<p>722 rows × 8 columns</p>\n",
       "</div>"
      ],
      "text/plain": [
       "     BuildingAge  BuildingType  PrimaryPropertyType  LargestPropertyUseType  \\\n",
       "0      -1.310348     -0.281202            -0.654445               -0.204605   \n",
       "1       1.590372     -0.281202            -1.804412               -1.548321   \n",
       "2      -0.093917     -0.281202            -0.398896               -0.120623   \n",
       "3      -0.374632     -0.281202             0.878846               -0.204605   \n",
       "4       0.872989     -0.281202            -0.015574                1.391057   \n",
       "..           ...           ...                  ...                     ...   \n",
       "717     1.216085     -0.281202            -0.398896               -0.120623   \n",
       "718     1.777515     -0.281202             0.878846               -0.204605   \n",
       "719    -1.341538     -0.281202            -1.421090               -1.044427   \n",
       "720    -0.125108     -0.281202            -0.398896                0.047342   \n",
       "721    -1.747015     -0.281202            -1.421090               -1.044427   \n",
       "\n",
       "     Neighborhood  PropertyGFATotal  NumberofFloors  SiteEUI(kBtu/sf)  \n",
       "0        0.775781         -0.607683        0.967441         -0.304843  \n",
       "1       -0.023620          0.417768        0.967441         -1.051183  \n",
       "2       -0.023620         -0.783493       -0.990949         -1.354840  \n",
       "3       -0.023620         -0.760862       -0.338152         -0.030454  \n",
       "4        1.042249         -1.183390        0.314644         -0.604843  \n",
       "..            ...               ...             ...               ...  \n",
       "717     -0.023620         -0.901555       -0.990949          0.415886  \n",
       "718     -0.823022         -0.548901       -0.338152          1.868321  \n",
       "719      0.242847          2.104672        2.925830          0.485398  \n",
       "720      0.509314         -1.119772        0.314644          1.513444  \n",
       "721     -2.155358          0.594607        0.967441          0.463447  \n",
       "\n",
       "[722 rows x 8 columns]"
      ]
     },
     "execution_count": 270,
     "metadata": {},
     "output_type": "execute_result"
    }
   ],
   "source": [
    "X_test=pd.DataFrame(X_test, columns=X.columns)\n",
    "X_test"
   ]
  },
  {
   "cell_type": "code",
   "execution_count": 271,
   "metadata": {},
   "outputs": [
    {
     "data": {
      "text/plain": [
       "1801     19.51\n",
       "1970     97.27\n",
       "570       6.46\n",
       "654      27.99\n",
       "1912     61.68\n",
       "         ...  \n",
       "1638     77.76\n",
       "1095     48.95\n",
       "1130     48.76\n",
       "1294    107.16\n",
       "860      27.90\n",
       "Name: TotalGHGEmissions, Length: 1465, dtype: float64"
      ]
     },
     "execution_count": 271,
     "metadata": {},
     "output_type": "execute_result"
    }
   ],
   "source": [
    "y_train"
   ]
  },
  {
   "cell_type": "code",
   "execution_count": 272,
   "metadata": {},
   "outputs": [
    {
     "data": {
      "text/plain": [
       "1846      6.41\n",
       "1316      7.37\n",
       "764       2.04\n",
       "1550      8.85\n",
       "993       4.79\n",
       "         ...  \n",
       "817      18.91\n",
       "710     103.40\n",
       "15      191.58\n",
       "925      81.02\n",
       "1091     25.27\n",
       "Name: TotalGHGEmissions, Length: 722, dtype: float64"
      ]
     },
     "execution_count": 272,
     "metadata": {},
     "output_type": "execute_result"
    }
   ],
   "source": [
    "y_test"
   ]
  },
  {
   "cell_type": "markdown",
   "metadata": {},
   "source": [
    "## La répartition des fonctionnalités (jeux d'entrainement)"
   ]
  },
  {
   "cell_type": "code",
   "execution_count": 273,
   "metadata": {},
   "outputs": [
    {
     "data": {
      "text/plain": [
       "<AxesSubplot:xlabel='SiteEUI(kBtu/sf)', ylabel='Count'>"
      ]
     },
     "execution_count": 273,
     "metadata": {},
     "output_type": "execute_result"
    },
    {
     "data": {
      "image/png": "[encoded data removed]",
      "text/plain": [
       "<Figure size 1080x1080 with 9 Axes>"
      ]
     },
     "metadata": {
      "needs_background": "light"
     },
     "output_type": "display_data"
    }
   ],
   "source": [
    "\n",
    "\n",
    "# On ne trouve pas de distribution normale dans les fonctionnalités Entraînement\n",
    "\n",
    "# Ils sont soit asymétriques, soit à distribution bimodale et multimodale\n",
    "\n",
    "\n",
    "fig, axs = plt.subplots(3, 3, figsize=(15, 15))\n",
    "\n",
    "sns.histplot(data=X_train, x=\"BuildingAge\", kde=True, color=\"Darkblue\", ax=axs[0,0])\n",
    "sns.histplot(data=X_train, x=\"BuildingType\", kde=True, color=\"olive\", ax=axs[0, 1])\n",
    "sns.histplot(data=X_train, x=\"PrimaryPropertyType\", kde=True, color=\"red\", ax=axs[0,2])\n",
    "sns.histplot(data=X_train, x=\"LargestPropertyUseType\", kde=True, color=\"darkred\", ax=axs[1, 0])\n",
    "sns.histplot(data=X_train, x=\"Neighborhood\", kde=True, color=\"Green\", ax=axs[1, 1])\n",
    "sns.histplot(data=X_train, x=\"PropertyGFATotal\", kde=True, color=\"olive\", ax=axs[1, 2])\n",
    "sns.histplot(data=X_train, x=\"NumberofFloors\", kde=True, color=\"gold\", ax=axs[2, 0])\n",
    "sns.histplot(data=X_train, x=\"SiteEUI(kBtu/sf)\", kde=True, color=\"teal\", ax=axs[2, 1])"
   ]
  },
  {
   "cell_type": "markdown",
   "metadata": {},
   "source": [
    "## La répartition des fonctionnalités (Jeux de TEST)"
   ]
  },
  {
   "cell_type": "code",
   "execution_count": 274,
   "metadata": {},
   "outputs": [
    {
     "data": {
      "text/plain": [
       "<AxesSubplot:xlabel='SiteEUI(kBtu/sf)', ylabel='Count'>"
      ]
     },
     "execution_count": 274,
     "metadata": {},
     "output_type": "execute_result"
    },
    {
     "data": {
      "image/png": "[encoded data removed]",
      "text/plain": [
       "<Figure size 1080x1080 with 9 Axes>"
      ]
     },
     "metadata": {
      "needs_background": "light"
     },
     "output_type": "display_data"
    }
   ],
   "source": [
    "\n",
    "# On ne trouve pas de distribution normale dans les fonctionnalités TEST\n",
    "\n",
    "# Ils sont soit asymétriques, soit à distribution bimodale et multimodale\n",
    "\n",
    "\n",
    "fig, axs = plt.subplots(3, 3, figsize=(15, 15))\n",
    "\n",
    "sns.histplot(data=X_test, x=\"BuildingAge\", kde=True, color=\"Darkblue\", ax=axs[0,0])\n",
    "sns.histplot(data=X_test, x=\"BuildingType\", kde=True, color=\"olive\", ax=axs[0, 1])\n",
    "sns.histplot(data=X_test, x=\"PrimaryPropertyType\", kde=True, color=\"red\", ax=axs[0,2])\n",
    "sns.histplot(data=X_test, x=\"LargestPropertyUseType\", kde=True, color=\"darkred\", ax=axs[1, 0])\n",
    "sns.histplot(data=X_test, x=\"Neighborhood\", kde=True, color=\"Green\", ax=axs[1, 1])\n",
    "sns.histplot(data=X_test, x=\"PropertyGFATotal\", kde=True, color=\"olive\", ax=axs[1, 2])\n",
    "sns.histplot(data=X_test, x=\"NumberofFloors\", kde=True, color=\"gold\", ax=axs[2, 0])\n",
    "sns.histplot(data=X_test, x=\"SiteEUI(kBtu/sf)\", kde=True, color=\"teal\", ax=axs[2, 1])"
   ]
  },
  {
   "cell_type": "markdown",
   "metadata": {},
   "source": [
    "### Feature Selection: Méthode des écarts"
   ]
  },
  {
   "cell_type": "code",
   "execution_count": 275,
   "metadata": {},
   "outputs": [
    {
     "data": {
      "text/plain": [
       "BuildingAge               1.000683\n",
       "BuildingType              1.000683\n",
       "PrimaryPropertyType       1.000683\n",
       "LargestPropertyUseType    1.000683\n",
       "Neighborhood              1.000683\n",
       "PropertyGFATotal          1.000683\n",
       "NumberofFloors            1.000683\n",
       "SiteEUI(kBtu/sf)          1.000683\n",
       "dtype: float64"
      ]
     },
     "execution_count": 275,
     "metadata": {},
     "output_type": "execute_result"
    }
   ],
   "source": [
    "\n",
    "# La méthode Variande est l'une des méthodes de sélection des fonctionnalités. Il élimine les fonctionnalités à faible variance\n",
    "\n",
    "# En raison de la standardisation, la variance de la fonctionnalité est de 1\n",
    "\n",
    "X_train.var()"
   ]
  },
  {
   "cell_type": "code",
   "execution_count": 276,
   "metadata": {},
   "outputs": [
    {
     "name": "stdout",
     "output_type": "stream",
     "text": [
      "Feature selection [ True  True  True  True  True  True  True  True]\n",
      "Selected features: ['BuildingAge', 'BuildingType', 'PrimaryPropertyType', 'LargestPropertyUseType', 'Neighborhood', 'PropertyGFATotal', 'NumberofFloors', 'SiteEUI(kBtu/sf)']\n",
      "Removed features: []\n"
     ]
    }
   ],
   "source": [
    "# Nous voulons éliminer les fonctionnalités dont la variance est inférieure au seuil. Default est Zero\n",
    "# En effet, aucune des fonctionnalités ne présente une variance inférieure. C'est pourquoi nous les gardons.\n",
    "\n",
    "from sklearn.feature_selection import VarianceThreshold\n",
    "\n",
    "sel = VarianceThreshold(threshold=(0.02))\n",
    "sel.fit(X_train)\n",
    "\n",
    "print(\"Feature selection\", sel.get_support())\n",
    "print(\"Selected features:\", list(X.columns[sel.get_support()]))\n",
    "print(\"Removed features:\", list(X.columns[~sel.get_support()]))"
   ]
  },
  {
   "cell_type": "markdown",
   "metadata": {},
   "source": [
    "### Coefficient de corrélation de Pearson"
   ]
  },
  {
   "cell_type": "code",
   "execution_count": 263,
   "metadata": {
    "scrolled": false
   },
   "outputs": [
    {
     "data": {
      "text/plain": [
       "<AxesSubplot:>"
      ]
     },
     "execution_count": 263,
     "metadata": {},
     "output_type": "execute_result"
    },
    {
     "data": {
      "image/png": "[encoded data removed]",
      "text/plain": [
       "<Figure size 936x504 with 2 Axes>"
      ]
     },
     "metadata": {
      "needs_background": "light"
     },
     "output_type": "display_data"
    }
   ],
   "source": [
    "# Une autre façon d'observer la relation entre les variables et ces variables et la variable indépendante est le coefficient de corrélation.\n",
    "# Nous pouvons noter que la relation linéaire n'est pas forte entre les variables et avec les variables indépendantes\n",
    "\n",
    "cor=df_émission.corr()\n",
    "plt.figure(figsize=(13,7))\n",
    "sns.heatmap(cor,annot=True)"
   ]
  },
  {
   "cell_type": "markdown",
   "metadata": {},
   "source": [
    "## Modélisation d'émission de CO2: TotalGHGEmissions"
   ]
  },
  {
   "cell_type": "markdown",
   "metadata": {},
   "source": [
    "### Les Modèles : LinearRegression ,KNeighborsRegressor, Gradient BoostingRegressor , RandomForestRegressor, XGBRegressor "
   ]
  },
  {
   "cell_type": "markdown",
   "metadata": {},
   "source": [
    "### Baseline Regression"
   ]
  },
  {
   "cell_type": "code",
   "execution_count": 277,
   "metadata": {},
   "outputs": [
    {
     "name": "stdout",
     "output_type": "stream",
     "text": [
      "LinearRegression\n",
      "    MAE 22.841573094180088\n",
      "    RMSE 31.266857071629357\n",
      "    R2 0.4787654365539358\n",
      "KNeighborsRegressor\n",
      "    MAE 16.22439726962457\n",
      "    RMSE 24.107021199602592\n",
      "    R2 0.6901497511901592\n",
      "GradientBoostingRegressor\n",
      "    MAE 14.105251525854158\n",
      "    RMSE 19.18713928046531\n",
      "    R2 0.8037158616283208\n",
      "RandomForestRegressor\n",
      "    MAE 5.449830102389077\n",
      "    RMSE 8.546611200530343\n",
      "    R2 0.9610549160006399\n",
      "XGBRegressor\n",
      "    MAE 2.081709578979951\n",
      "    RMSE 3.0134323428630765\n",
      "    R2 0.9951584141172151\n"
     ]
    }
   ],
   "source": [
    "\n",
    "# Algorithms de Sklearn regression \n",
    "\n",
    "from sklearn.linear_model import LinearRegression\n",
    "from sklearn.neighbors import KNeighborsRegressor\n",
    "from sklearn.ensemble import GradientBoostingRegressor\n",
    "from sklearn.ensemble import RandomForestRegressor\n",
    "from xgboost.sklearn import XGBRegressor\n",
    "import xgboost as xg\n",
    "\n",
    "#Fonctions d'évaluation du modèle de régression Sklearn\n",
    "\n",
    "from sklearn.metrics import mean_absolute_error\n",
    "from sklearn.metrics import mean_squared_error\n",
    "from math import sqrt\n",
    "from sklearn.metrics import r2_score\n",
    "\n",
    "\n",
    "# Construisez des modèles et comparez-les aux données d'entraînement à l'aide de MAE, RMSE and R2\n",
    "\n",
    "\n",
    "models = [LinearRegression(),KNeighborsRegressor(), GradientBoostingRegressor(),RandomForestRegressor(),xg.XGBRegressor()]\n",
    "for model in models:\n",
    "    model.fit(X_train, y_train)\n",
    "    predictions = model.predict(X_train)\n",
    "    print(type(model).__name__)\n",
    "    print(\"    MAE\", mean_absolute_error(y_train, predictions))\n",
    "    print(\"    RMSE\", sqrt(mean_squared_error(y_train, predictions)))\n",
    "    print(\"    R2\", r2_score(y_train, predictions))"
   ]
  },
  {
   "cell_type": "markdown",
   "metadata": {},
   "source": [
    "### Explorer les métriques d'évaluation sur l'ensemble de TEST"
   ]
  },
  {
   "cell_type": "code",
   "execution_count": 278,
   "metadata": {},
   "outputs": [
    {
     "name": "stdout",
     "output_type": "stream",
     "text": [
      "LinearRegression\n",
      "    MAE 22.034221724774213\n",
      "    MSE 900.0397141886333\n",
      "    RMSE 30.00066189584212\n",
      "    R2 0.4440863062476089\n",
      "KNeighborsRegressor\n",
      "    MAE 19.180072022160665\n",
      "    MSE 789.8285825152354\n",
      "    RMSE 28.103889099468695\n",
      "    R2 0.512158721648102\n",
      "GradientBoostingRegressor\n",
      "    MAE 17.89123172808052\n",
      "    MSE 630.4242056515798\n",
      "    RMSE 25.108249752851744\n",
      "    R2 0.6106155725465733\n",
      "RandomForestRegressor\n",
      "    MAE 15.144764681440442\n",
      "    MSE 518.5040843837259\n",
      "    RMSE 22.770684758779783\n",
      "    R2 0.6797435532771974\n",
      "XGBRegressor\n",
      "    MAE 14.63683613672316\n",
      "    MSE 532.7813947189203\n",
      "    RMSE 23.08205785277648\n",
      "    R2 0.6709251064907218\n"
     ]
    }
   ],
   "source": [
    "models = [LinearRegression(),KNeighborsRegressor(), GradientBoostingRegressor(),RandomForestRegressor(),xg.XGBRegressor()]\n",
    "for model in models:\n",
    "    model.fit(X_train, y_train)\n",
    "    predictions = model.predict(X_test)\n",
    "    print(type(model).__name__)\n",
    "    print(\"    MAE\", mean_absolute_error(y_test, predictions))\n",
    "    print(\"    MSE\", mean_squared_error(y_test, predictions))\n",
    "    print(\"    RMSE\", sqrt(mean_squared_error(y_test, predictions)))\n",
    "    print(\"    R2\", r2_score(y_test, predictions))"
   ]
  },
  {
   "cell_type": "code",
   "execution_count": 279,
   "metadata": {},
   "outputs": [],
   "source": [
    "# La différence entre les résultats des ensembles de données d'entraînement et de test indique la présence de sur-apprentissage.\n",
    "\n",
    "# Nous avons choisi GridSearchCV pour Hyperparameter Tunning afin d'améliorer les performances des modèles."
   ]
  },
  {
   "cell_type": "markdown",
   "metadata": {},
   "source": [
    "### Réglage des hyperparamètres: GridSearchCV  d'émission de CO2"
   ]
  },
  {
   "cell_type": "code",
   "execution_count": 306,
   "metadata": {},
   "outputs": [],
   "source": [
    "# Nous avons choisi trois modèles pour l'optimisation des hyperparamètres\n",
    "# GradientBoostingRegressor # Random Forest Regression # Xboost Regressor"
   ]
  },
  {
   "cell_type": "markdown",
   "metadata": {},
   "source": [
    "## 1. XGboost Regressor"
   ]
  },
  {
   "cell_type": "code",
   "execution_count": 293,
   "metadata": {},
   "outputs": [
    {
     "data": {
      "text/plain": [
       "GridSearchCV(estimator=XGBRegressor(base_score=None, booster=None,\n",
       "                                    colsample_bylevel=None,\n",
       "                                    colsample_bynode=None,\n",
       "                                    colsample_bytree=None, gamma=None,\n",
       "                                    gpu_id=None, importance_type='gain',\n",
       "                                    interaction_constraints=None,\n",
       "                                    learning_rate=None, max_delta_step=None,\n",
       "                                    max_depth=None, min_child_weight=None,\n",
       "                                    missing=nan, monotone_constraints=None,\n",
       "                                    n_estimators=100, n_jobs=None,\n",
       "                                    num_parallel_tree=None, random_state=42,\n",
       "                                    reg_alpha=None, reg_lambda=None,\n",
       "                                    scale_pos_weight=None, subsample=None,\n",
       "                                    tree_method=None, validate_parameters=None,\n",
       "                                    verbosity=None),\n",
       "             n_jobs=-1,\n",
       "             param_grid={'learning_rate': [0.01, 0.02, 0.03, 0.04],\n",
       "                         'max_depth': [4, 6, 8, 10],\n",
       "                         'n_estimators': [100, 200, 300, 500],\n",
       "                         'subsample': [0.9, 0.5, 0.2, 0.1]})"
      ]
     },
     "execution_count": 293,
     "metadata": {},
     "output_type": "execute_result"
    }
   ],
   "source": [
    "from sklearn.model_selection import GridSearchCV\n",
    "\n",
    "xgb1 = XGBRegressor(random_state=42)\n",
    "\n",
    "# définition de la plage de paramètres\n",
    "\n",
    "parameters = {'learning_rate': [0.01,0.02,0.03,0.04],\n",
    "                  'subsample'    : [0.9, 0.5, 0.2, 0.1],\n",
    "                  'n_estimators' : [100,200,300,500],\n",
    "                  'max_depth'    : [4,6,8,10]\n",
    "                 }\n",
    "\n",
    "\n",
    "xgb_grid = GridSearchCV(xgb1,\n",
    "                        param_grid=parameters,\n",
    "                        n_jobs = -1)\n",
    "\n",
    "xgb_grid.fit(X_train,y_train)"
   ]
  },
  {
   "cell_type": "code",
   "execution_count": 294,
   "metadata": {},
   "outputs": [
    {
     "data": {
      "text/plain": [
       "{'learning_rate': 0.03, 'max_depth': 10, 'n_estimators': 500, 'subsample': 0.5}"
      ]
     },
     "execution_count": 294,
     "metadata": {},
     "output_type": "execute_result"
    }
   ],
   "source": [
    "xgb_grid.best_params_"
   ]
  },
  {
   "cell_type": "code",
   "execution_count": 295,
   "metadata": {},
   "outputs": [
    {
     "data": {
      "text/plain": [
       "XGBRegressor(base_score=0.5, booster='gbtree', colsample_bylevel=1,\n",
       "             colsample_bynode=1, colsample_bytree=1, gamma=0, gpu_id=-1,\n",
       "             importance_type='gain', interaction_constraints='',\n",
       "             learning_rate=0.03, max_delta_step=0, max_depth=10,\n",
       "             min_child_weight=1, missing=nan, monotone_constraints='()',\n",
       "             n_estimators=500, n_jobs=8, num_parallel_tree=1, random_state=42,\n",
       "             reg_alpha=0, reg_lambda=1, scale_pos_weight=1, subsample=0.5,\n",
       "             tree_method='exact', validate_parameters=1, verbosity=None)"
      ]
     },
     "execution_count": 295,
     "metadata": {},
     "output_type": "execute_result"
    }
   ],
   "source": [
    "Best_xgb_grid=xgb_grid.best_estimator_\n",
    "Best_xgb_grid"
   ]
  },
  {
   "cell_type": "markdown",
   "metadata": {},
   "source": [
    "### Explorer les métriques d'évaluation sur l'ensemble de test"
   ]
  },
  {
   "cell_type": "code",
   "execution_count": 296,
   "metadata": {},
   "outputs": [
    {
     "name": "stdout",
     "output_type": "stream",
     "text": [
      "Résultats de Grid Search_XGboost Regressor\n",
      "    MAE 13.285476632007603\n",
      "    MSE 453.29571724107336\n",
      "    RMSE 21.29074252441829\n",
      "    R2 0.7200198029474831\n",
      "\n",
      " Les meilleurs paramètres parmi TOUS les paramètres recherchés:\n",
      " {'learning_rate': 0.03, 'max_depth': 10, 'n_estimators': 500, 'subsample': 0.5}\n"
     ]
    }
   ],
   "source": [
    "print(\"Résultats de Grid Search_XGboost Regressor\" )\n",
    "y_predict=Best_xgb_grid.predict(X_test)\n",
    "print(\"    MAE\", mean_absolute_error(y_test, y_predict))\n",
    "print(\"    MSE\", mean_squared_error(y_test, y_predict))\n",
    "print(\"    RMSE\", sqrt(mean_squared_error(y_test, y_predict)))\n",
    "print(\"    R2\", r2_score(y_test,  y_predict))\n",
    "print(\"\\n Les meilleurs paramètres parmi TOUS les paramètres recherchés:\\n\",xgb_grid.best_params_)"
   ]
  },
  {
   "cell_type": "markdown",
   "metadata": {},
   "source": [
    "## 2.GradientBoostingRegressor"
   ]
  },
  {
   "cell_type": "code",
   "execution_count": 284,
   "metadata": {},
   "outputs": [
    {
     "data": {
      "text/plain": [
       "GridSearchCV(estimator=GradientBoostingRegressor(random_state=42), n_jobs=-1,\n",
       "             param_grid={'learning_rate': [0.01, 0.02, 0.03, 0.04],\n",
       "                         'max_depth': [4, 6, 8, 10],\n",
       "                         'n_estimators': [100, 200, 300],\n",
       "                         'subsample': [0.9, 0.5, 0.2, 0.1]})"
      ]
     },
     "execution_count": 284,
     "metadata": {},
     "output_type": "execute_result"
    }
   ],
   "source": [
    "GBR = GradientBoostingRegressor(random_state=42)\n",
    "\n",
    "# defining parameter range \n",
    "parameters_gb = {'learning_rate': [0.01,0.02,0.03,0.04],\n",
    "                  'subsample'    : [0.9, 0.5, 0.2, 0.1],\n",
    "                  'n_estimators' : [100,200,300],\n",
    "                  'max_depth'    : [4,6,8,10]\n",
    "                 }\n",
    "\n",
    "\n",
    "grid_GBR = GridSearchCV(estimator=GBR, param_grid = parameters_gb, n_jobs=-1)\n",
    "\n",
    "grid_GBR.fit(X_train, y_train)\n",
    " "
   ]
  },
  {
   "cell_type": "code",
   "execution_count": 285,
   "metadata": {},
   "outputs": [
    {
     "data": {
      "text/plain": [
       "{'learning_rate': 0.04, 'max_depth': 10, 'n_estimators': 300, 'subsample': 0.5}"
      ]
     },
     "execution_count": 285,
     "metadata": {},
     "output_type": "execute_result"
    }
   ],
   "source": [
    "grid_GBR.best_params_"
   ]
  },
  {
   "cell_type": "code",
   "execution_count": 286,
   "metadata": {},
   "outputs": [
    {
     "data": {
      "text/plain": [
       "GradientBoostingRegressor(learning_rate=0.04, max_depth=10, n_estimators=300,\n",
       "                          random_state=42, subsample=0.5)"
      ]
     },
     "execution_count": 286,
     "metadata": {},
     "output_type": "execute_result"
    }
   ],
   "source": [
    "Best_grid=grid_GBR.best_estimator_\n",
    "Best_grid"
   ]
  },
  {
   "cell_type": "markdown",
   "metadata": {},
   "source": [
    "### Explorer les métriques d'évaluation sur l'ensemble de test"
   ]
  },
  {
   "cell_type": "code",
   "execution_count": 287,
   "metadata": {},
   "outputs": [
    {
     "name": "stdout",
     "output_type": "stream",
     "text": [
      " Résultats de Grid Search_GradientBoostingRegressor \n",
      "    MAE 13.646648040452376\n",
      "    MSE 473.3005366479149\n",
      "    RMSE 21.755471418655006\n",
      "    R2 0.7076637336829928\n",
      "\n",
      " Les meilleurs paramètres parmi TOUS les paramètres recherchés:\n",
      " {'learning_rate': 0.04, 'max_depth': 10, 'n_estimators': 300, 'subsample': 0.5}\n"
     ]
    }
   ],
   "source": [
    "print(\" Résultats de Grid Search_GradientBoostingRegressor \" )\n",
    "y_pred=Best_grid.predict(X_test)\n",
    "print(\"    MAE\", mean_absolute_error(y_test, y_pred))\n",
    "print(\"    MSE\", mean_squared_error(y_test, y_pred))\n",
    "print(\"    RMSE\", sqrt(mean_squared_error(y_test, y_pred)))\n",
    "print(\"    R2\", r2_score(y_test,  y_pred))\n",
    "print(\"\\n Les meilleurs paramètres parmi TOUS les paramètres recherchés:\\n\",grid_GBR.best_params_)"
   ]
  },
  {
   "cell_type": "markdown",
   "metadata": {},
   "source": [
    "## 3. RandomForestRegressor "
   ]
  },
  {
   "cell_type": "code",
   "execution_count": 288,
   "metadata": {},
   "outputs": [],
   "source": [
    "from sklearn.model_selection import GridSearchCV\n",
    "\n",
    "rfr = RandomForestRegressor(random_state=42)\n",
    "\n",
    "param_rf  = {'max_features' : ['sqrt', 'log2'],\n",
    "             'max_depth': [5, 15, 25, 50],\n",
    "             'min_samples_split': [2, 5, 10],\n",
    "             'bootstrap' : [True, False],\n",
    "             'min_samples_leaf': [1,2,5,10]}"
   ]
  },
  {
   "cell_type": "code",
   "execution_count": 289,
   "metadata": {},
   "outputs": [
    {
     "data": {
      "text/plain": [
       "GridSearchCV(estimator=RandomForestRegressor(random_state=42), n_jobs=-1,\n",
       "             param_grid={'bootstrap': [True, False],\n",
       "                         'max_depth': [5, 15, 25, 50],\n",
       "                         'max_features': ['sqrt', 'log2'],\n",
       "                         'min_samples_leaf': [1, 2, 5, 10],\n",
       "                         'min_samples_split': [2, 5, 10]})"
      ]
     },
     "execution_count": 289,
     "metadata": {},
     "output_type": "execute_result"
    }
   ],
   "source": [
    "gd_search = GridSearchCV(estimator = rfr, param_grid = param_rf, n_jobs=-1)\n",
    "\n",
    "gd_search.fit(X_train, y_train)"
   ]
  },
  {
   "cell_type": "code",
   "execution_count": 290,
   "metadata": {},
   "outputs": [
    {
     "data": {
      "text/plain": [
       "{'bootstrap': False,\n",
       " 'max_depth': 25,\n",
       " 'max_features': 'log2',\n",
       " 'min_samples_leaf': 1,\n",
       " 'min_samples_split': 2}"
      ]
     },
     "execution_count": 290,
     "metadata": {},
     "output_type": "execute_result"
    }
   ],
   "source": [
    "gd_search.best_params_"
   ]
  },
  {
   "cell_type": "code",
   "execution_count": 291,
   "metadata": {},
   "outputs": [
    {
     "data": {
      "text/plain": [
       "RandomForestRegressor(bootstrap=False, max_depth=25, max_features='log2',\n",
       "                      random_state=42)"
      ]
     },
     "execution_count": 291,
     "metadata": {},
     "output_type": "execute_result"
    }
   ],
   "source": [
    "Best_result=gd_search.best_estimator_\n",
    "Best_result"
   ]
  },
  {
   "cell_type": "markdown",
   "metadata": {},
   "source": [
    "### Explorer les métriques d'évaluation sur l'ensemble de test"
   ]
  },
  {
   "cell_type": "code",
   "execution_count": 292,
   "metadata": {},
   "outputs": [
    {
     "name": "stdout",
     "output_type": "stream",
     "text": [
      " Résultats de Grid Search_ RandomForestRegressor \n",
      "    MAE 13.252629852262237\n",
      "    MSE 461.1528635624686\n",
      "    RMSE 21.474470041481084\n",
      "    R2 0.7151668001688031\n"
     ]
    }
   ],
   "source": [
    "print(\" Résultats de Grid Search_ RandomForestRegressor \" )\n",
    "y_pred=Best_result.predict(X_test)\n",
    "print(\"    MAE\", mean_absolute_error(y_test, y_pred))\n",
    "print(\"    MSE\", mean_squared_error(y_test, y_pred))\n",
    "print(\"    RMSE\", sqrt(mean_squared_error(y_test, y_pred)))\n",
    "print(\"    R2\", r2_score(y_test, y_pred))"
   ]
  },
  {
   "cell_type": "markdown",
   "metadata": {},
   "source": [
    "### Conclusion\n",
    "####  Les trois modèles affichent des scores approximatifs\n",
    "#### La modèle avec une meilleure performance: XGBoostingRegressor"
   ]
  },
  {
   "cell_type": "markdown",
   "metadata": {},
   "source": [
    "### Feature Importance: Émission de CO2"
   ]
  },
  {
   "cell_type": "code",
   "execution_count": null,
   "metadata": {},
   "outputs": [],
   "source": [
    "# Il mesure l'importance relative des caractéristiques avant de passer à l'étape de prédiction."
   ]
  },
  {
   "cell_type": "code",
   "execution_count": 297,
   "metadata": {},
   "outputs": [],
   "source": [
    "# XGBoost regressor en utilisant les estimateurs recommandés\n",
    "\n",
    "XGB=XGBRegressor(base_score=0.5, booster='gbtree', colsample_bylevel=1,\n",
    "             colsample_bynode=1, colsample_bytree=1, gamma=0, gpu_id=-1,\n",
    "             importance_type='gain', interaction_constraints='',\n",
    "             learning_rate=0.03, max_delta_step=0, max_depth=10,\n",
    "             min_child_weight=1,monotone_constraints='()',\n",
    "             n_estimators=500, n_jobs=8, num_parallel_tree=1, random_state=42,\n",
    "             reg_alpha=0, reg_lambda=1, scale_pos_weight=1, subsample=0.5,\n",
    "             tree_method='exact', validate_parameters=1, verbosity=None)"
   ]
  },
  {
   "cell_type": "code",
   "execution_count": 298,
   "metadata": {},
   "outputs": [
    {
     "data": {
      "text/plain": [
       "XGBRegressor(base_score=0.5, booster='gbtree', colsample_bylevel=1,\n",
       "             colsample_bynode=1, colsample_bytree=1, gamma=0, gpu_id=-1,\n",
       "             importance_type='gain', interaction_constraints='',\n",
       "             learning_rate=0.03, max_delta_step=0, max_depth=10,\n",
       "             min_child_weight=1, missing=nan, monotone_constraints='()',\n",
       "             n_estimators=500, n_jobs=8, num_parallel_tree=1, random_state=42,\n",
       "             reg_alpha=0, reg_lambda=1, scale_pos_weight=1, subsample=0.5,\n",
       "             tree_method='exact', validate_parameters=1, verbosity=None)"
      ]
     },
     "execution_count": 298,
     "metadata": {},
     "output_type": "execute_result"
    }
   ],
   "source": [
    "\n",
    "XGB.fit(X_train, y_train)"
   ]
  },
  {
   "cell_type": "code",
   "execution_count": 299,
   "metadata": {},
   "outputs": [
    {
     "data": {
      "text/plain": [
       "array([0.04563465, 0.09591538, 0.12217289, 0.11970831, 0.0616961 ,\n",
       "       0.20227595, 0.11999692, 0.23259984], dtype=float32)"
      ]
     },
     "execution_count": 299,
     "metadata": {},
     "output_type": "execute_result"
    }
   ],
   "source": [
    "XGB.feature_importances_"
   ]
  },
  {
   "cell_type": "code",
   "execution_count": 300,
   "metadata": {},
   "outputs": [
    {
     "data": {
      "text/plain": [
       "Text(0.5, 0, \"XGBoosting Regressor Feature Importance sur l' Émission de CO2\")"
      ]
     },
     "execution_count": 300,
     "metadata": {},
     "output_type": "execute_result"
    },
    {
     "data": {
      "image/png": "[encoded data removed]",
      "text/plain": [
       "<Figure size 864x288 with 1 Axes>"
      ]
     },
     "metadata": {
      "needs_background": "light"
     },
     "output_type": "display_data"
    }
   ],
   "source": [
    "# Comme prévu, la consommation d'énergie a une importance plus grande tandis que l'âge du bâtiment a la moindre importance\n",
    "# 'PropertyType', 'Number of floor', 'Largest property use type' ont le même niveau d'importance.\n",
    "# Par conséquent, nous gardons toutes les fonctionnalités dans l'étape de prédiction\n",
    "\n",
    "sorted_idx = XGB.feature_importances_.argsort()\n",
    "fig, ax = plt.subplots(figsize=(12,4))\n",
    "plt.barh(X.columns[sorted_idx], XGB.feature_importances_[sorted_idx])\n",
    "plt.xlabel(\"XGBoosting Regressor Feature Importance sur l' Émission de CO2\")"
   ]
  },
  {
   "cell_type": "markdown",
   "metadata": {},
   "source": [
    "## Test de modèle sélectionné"
   ]
  },
  {
   "cell_type": "markdown",
   "metadata": {},
   "source": [
    " ### Prédiction des émissions de CO2 en utilisent XGBoostingRegressor  modèle"
   ]
  },
  {
   "cell_type": "code",
   "execution_count": 301,
   "metadata": {},
   "outputs": [],
   "source": [
    "## Nous définissons les métriques pour MAE et R2\n",
    "\n",
    "def metrics_model(y_true, y_pred):\n",
    "    y_true, y_pred = np.array(y_true), np.array(y_pred)\n",
    "    diff = y_true - y_pred\n",
    "    mae = np.mean(abs(diff))\n",
    "    r2 = 1-(sum(diff**2)/sum((y_true-np.mean(y_true))**2))\n",
    "    dict_metrics = {\"Métrique\":[\"MAE\", \"R²\"], \"Résultats\":[mae, r2]}\n",
    "    df_metrics = pd.DataFrame(dict_metrics)\n",
    "    return df_metrics"
   ]
  },
  {
   "cell_type": "code",
   "execution_count": 302,
   "metadata": {},
   "outputs": [],
   "source": [
    "## Nous définissons pour tracer le graphique\n",
    "\n",
    "def plot_pred_true(y_true, y_pred, color=None, title=None):\n",
    "    X_plot = [y_true.min(), y_true.max()]\n",
    "    fig = plt.figure(figsize=(12,8))\n",
    "    plt.scatter(y_true, y_pred, color=color, alpha=.6)\n",
    "    plt.plot(X_plot, X_plot, color='r')\n",
    "    plt.xlabel(\"Valeurs réélles\")\n",
    "    plt.ylabel(\"Valeurs prédites\")\n",
    "    plt.title(\"Valeurs prédites VS valeurs réélles | Variable {}\".format(title), \n",
    "              fontdict=None, fontsize=18)\n",
    "    plt.show()"
   ]
  },
  {
   "cell_type": "code",
   "execution_count": 303,
   "metadata": {},
   "outputs": [
    {
     "name": "stdout",
     "output_type": "stream",
     "text": [
      "Temps d'execution de l'agorithme : 0.014 s.\n"
     ]
    }
   ],
   "source": [
    "# Modèle avec les meilleurs paramètres pour les émissions de CO2\n",
    "\n",
    "import time\n",
    "start_time = time.time()\n",
    "\n",
    "y_predict=Best_xgb_grid.predict(X_test)\n",
    "\n",
    "print(\"Temps d'execution de l'agorithme : {:.2} s.\".format((time.time() - start_time)))"
   ]
  },
  {
   "cell_type": "code",
   "execution_count": 304,
   "metadata": {},
   "outputs": [
    {
     "data": {
      "text/html": [
       "<div>\n",
       "<style scoped>\n",
       "    .dataframe tbody tr th:only-of-type {\n",
       "        vertical-align: middle;\n",
       "    }\n",
       "\n",
       "    .dataframe tbody tr th {\n",
       "        vertical-align: top;\n",
       "    }\n",
       "\n",
       "    .dataframe thead th {\n",
       "        text-align: right;\n",
       "    }\n",
       "</style>\n",
       "<table border=\"1\" class=\"dataframe\">\n",
       "  <thead>\n",
       "    <tr style=\"text-align: right;\">\n",
       "      <th></th>\n",
       "      <th>Métrique</th>\n",
       "      <th>Résultats</th>\n",
       "    </tr>\n",
       "  </thead>\n",
       "  <tbody>\n",
       "    <tr>\n",
       "      <th>0</th>\n",
       "      <td>MAE</td>\n",
       "      <td>13.285477</td>\n",
       "    </tr>\n",
       "    <tr>\n",
       "      <th>1</th>\n",
       "      <td>R²</td>\n",
       "      <td>0.720020</td>\n",
       "    </tr>\n",
       "  </tbody>\n",
       "</table>\n",
       "</div>"
      ],
      "text/plain": [
       "  Métrique  Résultats\n",
       "0      MAE  13.285477\n",
       "1       R²   0.720020"
      ]
     },
     "execution_count": 304,
     "metadata": {},
     "output_type": "execute_result"
    }
   ],
   "source": [
    "#Calcul des métriques pour les émissions de CO2\n",
    "\n",
    "Émissions_metrics = metrics_model(y_test,y_predict)\n",
    "Émissions_metrics"
   ]
  },
  {
   "cell_type": "code",
   "execution_count": 305,
   "metadata": {},
   "outputs": [
    {
     "data": {
      "image/png": "[encoded data removed]",
      "text/plain": [
       "<Figure size 864x576 with 1 Axes>"
      ]
     },
     "metadata": {
      "needs_background": "light"
     },
     "output_type": "display_data"
    }
   ],
   "source": [
    "plot_pred_true(y_test ,y_predict, color=\"#9C3E2D\", title=\"TotalGHGEmissions\")"
   ]
  },
  {
   "cell_type": "code",
   "execution_count": null,
   "metadata": {},
   "outputs": [],
   "source": [
    "## La capacité prédictive des modèles semble s'affaiblir après la valeur réelle (y_true) de 150.\n",
    "## Il y a une sous-prédiction après 150."
   ]
  }
 ],
 "metadata": {
  "kernelspec": {
   "display_name": "Python 3",
   "language": "python",
   "name": "python3"
  },
  "language_info": {
   "codemirror_mode": {
    "name": "ipython",
    "version": 3
   },
   "file_extension": ".py",
   "mimetype": "text/x-python",
   "name": "python",
   "nbconvert_exporter": "python",
   "pygments_lexer": "ipython3",
   "version": "3.8.5"
  }
 },
 "nbformat": 4,
 "nbformat_minor": 4
}
